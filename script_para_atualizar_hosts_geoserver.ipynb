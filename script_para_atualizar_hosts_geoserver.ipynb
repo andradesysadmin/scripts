{
 "cells": [
  {
   "cell_type": "markdown",
   "metadata": {},
   "source": [
    "### Script para atualizar o HOST\n",
    "\n",
    "O script abaixo foi criado com o intuito de atualizar os hosts dos workspaces das cidades no GeoServer. Isso possibilita transferir o GeoServer para múltiplas plataformas sem a necessidade de alterar os hosts manualmente.\n",
    "\n",
    "### Funcionamento\n",
    "\n",
    "O script possui um loop \"for\" que, através do método \"os.walk()\", é responsável por percorrer os diretórios, arquivos e subdiretórios do diretório pai 'workspaces/'. Para verificar se ele deve alterar o 'datastore.xml' dentro de um diretório, ele valida se o diretório filho tem o mesmo nome do diretório pai (que, no caso, será o nome da cidade). Então, ele abre o arquivo, transforma seu conteúdo em uma string, substitui a linha desejada e insere novamente no arquivo a string modificada.\n",
    "\n",
    "### Utilização\n",
    "\n",
    "Caso deseje mudar um host específico, você pode alterar os valores das variáveis no início do arquivo. Nesse caso, ele substituirá os hosts 'localhost' e '52.54.17.119' pelo IP '192.168.10.14'."
   ]
  },
  {
   "cell_type": "code",
   "execution_count": 3,
   "metadata": {},
   "outputs": [],
   "source": [
    "import os \n",
    "\n",
    "#host novo\n",
    "database_host = '192.168.10.14'\n",
    "\n",
    "#hosts antigos\n",
    "host_antigo1 = 'localhost'\n",
    "host_antigo2 = '52.54.17.119'\n",
    "\n",
    "for root, dirs, files in os.walk('workspaces/'):\n",
    "\n",
    "        alterar_xml = False \n",
    "        pastas = root.split('/')\n",
    "         \n",
    "        #valida se ira alterar o xml ou não\n",
    "        if pastas[len(pastas)-1] == pastas[len(pastas)-2]:\n",
    "            alterar_xml = True\n",
    "\n",
    "        for file in files:\n",
    "            if file == 'datastore.xml' and alterar_xml:\n",
    "\n",
    "                with open(f\"{root}/{file}\", 'r') as f:\n",
    "                    datastore_string = f.read()\n",
    "\n",
    "                datastore_string = datastore_string.replace(host_antigo1, database_host).replace(host_antigo2, database_host)\n",
    "                #print(datastore_string)\n",
    "\n",
    "                with open(f\"{root}/{file}\", 'w') as f:\n",
    "                    f.write(datastore_string)"
   ]
  }
 ],
 "metadata": {
  "kernelspec": {
   "display_name": "Python 3",
   "language": "python",
   "name": "python3"
  },
  "language_info": {
   "codemirror_mode": {
    "name": "ipython",
    "version": 3
   },
   "file_extension": ".py",
   "mimetype": "text/x-python",
   "name": "python",
   "nbconvert_exporter": "python",
   "pygments_lexer": "ipython3",
   "version": "3.12.3"
  }
 },
 "nbformat": 4,
 "nbformat_minor": 2
}
